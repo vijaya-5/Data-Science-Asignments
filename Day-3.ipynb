{
 "cells": [
  {
   "cell_type": "markdown",
   "metadata": {},
   "source": [
    "# Day-3"
   ]
  },
  {
   "cell_type": "markdown",
   "metadata": {},
   "source": [
    "## Name : Mukkala Vijaya Rama Krishna Dhanush"
   ]
  },
  {
   "cell_type": "markdown",
   "metadata": {},
   "source": [
    "## Gmail : mukkaladhanush747@gmail.com"
   ]
  },
  {
   "cell_type": "markdown",
   "metadata": {},
   "source": [
    "## Ph.No : 8978374568"
   ]
  },
  {
   "cell_type": "markdown",
   "metadata": {},
   "source": [
    "## Q1:"
   ]
  },
  {
   "cell_type": "code",
   "execution_count": 2,
   "metadata": {},
   "outputs": [
    {
     "name": "stdout",
     "output_type": "stream",
     "text": [
      "[ 2  5  8 11 14 17 20 23 26 29 32 35 38 41 44 47]\n"
     ]
    }
   ],
   "source": [
    "import numpy as np\n",
    "ar = np.arange(2, 50, 3)\n",
    "print(ar)"
   ]
  },
  {
   "cell_type": "markdown",
   "metadata": {},
   "source": [
    "# Q2:"
   ]
  },
  {
   "cell_type": "code",
   "execution_count": 6,
   "metadata": {},
   "outputs": [
    {
     "name": "stdout",
     "output_type": "stream",
     "text": [
      "5\n",
      "4\n",
      "6\n",
      "7\n",
      "1\n",
      "3\n",
      "10\n",
      "16\n",
      "12\n",
      "8\n",
      "[ 1  3  4  5  6  7  8 10 12 16]\n"
     ]
    }
   ],
   "source": [
    "import numpy as np\n",
    "l1, l2 = [], []\n",
    "for i in range(5):\n",
    "    a=int(input())\n",
    "    l1.append(a)\n",
    "for i in range(5):\n",
    "    a=int(input())\n",
    "    l2.append(a)\n",
    "a1 = np.array(l1)\n",
    "a2 = np.array(l2)\n",
    "ar = np.concatenate((a1,a2))\n",
    "sa = np.sort(ar)\n",
    "print(sa)"
   ]
  },
  {
   "cell_type": "markdown",
   "metadata": {},
   "source": [
    "# Q3:"
   ]
  },
  {
   "cell_type": "code",
   "execution_count": 8,
   "metadata": {},
   "outputs": [
    {
     "name": "stdout",
     "output_type": "stream",
     "text": [
      "2\n",
      "6\n",
      "(2, 3)\n"
     ]
    }
   ],
   "source": [
    "import numpy as np\n",
    "ar = np.array([[1,2,3],[1,3,5]])\n",
    "print(ar.ndim)\n",
    "print(ar.size)\n",
    "print(ar.shape)"
   ]
  },
  {
   "cell_type": "markdown",
   "metadata": {},
   "source": [
    "# Q4:"
   ]
  },
  {
   "cell_type": "code",
   "execution_count": 10,
   "metadata": {},
   "outputs": [
    {
     "name": "stdout",
     "output_type": "stream",
     "text": [
      "[[0 1 2 3 4]\n",
      " [5 6 7 8 9]]\n"
     ]
    }
   ],
   "source": [
    "import numpy as np\n",
    "ar = np.array([0, 1, 2, 3, 4, 5, 6, 7, 8, 9])   # 1-D array\n",
    "ar_2d = np.reshape(ar, (2, 5))                  # 2-D array\n",
    "print(ar_2d)"
   ]
  },
  {
   "cell_type": "markdown",
   "metadata": {},
   "source": [
    "# Q5:"
   ]
  },
  {
   "cell_type": "code",
   "execution_count": 11,
   "metadata": {},
   "outputs": [
    {
     "name": "stdout",
     "output_type": "stream",
     "text": [
      "[  1   4   9  16  25  36  49  64  81 100]\n",
      "[[  1   4   9  16  25]\n",
      " [ 36  49  64  81 100]]\n"
     ]
    }
   ],
   "source": [
    "import numpy as np\n",
    "a1 = np.square([1,2,3,4,5])\n",
    "a2 = np.square([6,7,8,9,10])\n",
    "print(np.hstack((a1, a2)))\n",
    "print(np.vstack((a1, a2)))"
   ]
  },
  {
   "cell_type": "markdown",
   "metadata": {},
   "source": [
    "# Q6:"
   ]
  },
  {
   "cell_type": "code",
   "execution_count": 13,
   "metadata": {},
   "outputs": [
    {
     "name": "stdout",
     "output_type": "stream",
     "text": [
      "[[1 2]\n",
      " [2 2]\n",
      " [3 1]\n",
      " [4 3]\n",
      " [5 3]\n",
      " [6 3]\n",
      " [7 1]\n",
      " [9 2]]\n"
     ]
    }
   ],
   "source": [
    "import numpy as np\n",
    "a1 = np.array([1,4,9,5,6,7,2,5,3,4,6,1,2,9,6,4,5])\n",
    "u, c = np.unique(a1, return_counts=True)\n",
    "ar = np.asarray((u, c)).T\n",
    "print(ar)"
   ]
  },
  {
   "cell_type": "code",
   "execution_count": null,
   "metadata": {},
   "outputs": [],
   "source": []
  }
 ],
 "metadata": {
  "kernelspec": {
   "display_name": "Python 3",
   "language": "python",
   "name": "python3"
  },
  "language_info": {
   "codemirror_mode": {
    "name": "ipython",
    "version": 3
   },
   "file_extension": ".py",
   "mimetype": "text/x-python",
   "name": "python",
   "nbconvert_exporter": "python",
   "pygments_lexer": "ipython3",
   "version": "3.7.3"
  }
 },
 "nbformat": 4,
 "nbformat_minor": 2
}
